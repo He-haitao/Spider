{
 "cells": [
  {
   "cell_type": "code",
   "execution_count": 1,
   "metadata": {},
   "outputs": [],
   "source": [
    "# http://jandan.net/ooxx/page-10#comments\n",
    "import urllib.request\n",
    "import os\n",
    "import base64,re\n",
    "from bs4 import BeautifulSoup"
   ]
  },
  {
   "cell_type": "code",
   "execution_count": 2,
   "metadata": {},
   "outputs": [],
   "source": [
    "# 模拟请求，收回数据\n",
    "def url_open(url):\n",
    "    req = urllib.request.Request(url)\n",
    "    req.add_header('User-Agent','Mozilla/5.0 (Windows NT 10.0; WOW64) AppleWebKit/537.36 (KHTML, like Gecko) Chrome/67.0.3396.99 Safari/537.36')\n",
    "    response = urllib.request.urlopen(req)\n",
    "    html = response.read()\n",
    "    \n",
    "    return html"
   ]
  },
  {
   "cell_type": "code",
   "execution_count": 3,
   "metadata": {},
   "outputs": [],
   "source": [
    "#解析URL返回的数据，并找到page个数\n",
    "def get_page(url):\n",
    "    html = url_open(url).decode('utf-8')\n",
    "    \n",
    "    a = html.find('current-comment-page')+23\n",
    "    b = html.find(']',a)\n",
    "    return html[a:b]"
   ]
  },
  {
   "cell_type": "code",
   "execution_count": 4,
   "metadata": {},
   "outputs": [],
   "source": [
    "# 找到对应的img 标签对应的src的值，并加入到img_addrs中返回。\n",
    "def find_imgs(page_url):\n",
    "    html = url_open(page_url).decode('utf-8')\n",
    "    img_addrs=[]\n",
    "    soup = BeautifulSoup(html, 'html.parser')\n",
    "    for tag in soup.find_all(re.compile(\"img\")):\n",
    "        img_addrs.append('http:'+tag.get('src'))\n",
    "    \n",
    "    return img_addrs        "
   ]
  },
  {
   "cell_type": "code",
   "execution_count": 5,
   "metadata": {},
   "outputs": [],
   "source": [
    "# 以URL中图片名字为名存储图片\n",
    "def save_imgs(img_addrs,folder='ooxx'):\n",
    "    for i in img_addrs:\n",
    "        filename = i.split('/')[-1]\n",
    "        img = url_open(i)\n",
    "        with open(filename,'wb') as f:\n",
    "            f.write(img)"
   ]
  },
  {
   "cell_type": "code",
   "execution_count": 10,
   "metadata": {},
   "outputs": [],
   "source": [
    "def download_mm(folder='ooxx',pages=2):\n",
    "    if not os.path.exists(folder):\n",
    "        os.mkdir(folder)\n",
    "    os.chdir(folder)\n",
    "    url = 'http://jandan.net/ooxx/'\n",
    "\n",
    "    page_num = int(get_page(url))\n",
    "#     print(page_num)\n",
    "    if pages>page_num+1:\n",
    "        pages = page_num+1\n",
    "    for i in range(page_num,page_num-pages,-1):        \n",
    "        page_url = url + 'page-'+ str(i)+'#comments'\n",
    "        img_addrs = find_imgs(page_url)\n",
    "        save_imgs(img_addrs,folder)\n",
    "    print(\"************Images download finish******************\")"
   ]
  },
  {
   "cell_type": "code",
   "execution_count": 7,
   "metadata": {},
   "outputs": [
    {
     "name": "stdout",
     "output_type": "stream",
     "text": [
      "9\n"
     ]
    }
   ],
   "source": [
    "if __name__ == '__main__':\n",
    "    download_mm()"
   ]
  },
  {
   "cell_type": "code",
   "execution_count": 8,
   "metadata": {},
   "outputs": [],
   "source": [
    "# url = r'http://jandan.net/ooxx/page-9#comments'\n",
    "# html = url_open(url).decode('utf-8')\n",
    "# soup = BeautifulSoup(html, 'html.parser')\n",
    "# print(soup.title)"
   ]
  },
  {
   "cell_type": "code",
   "execution_count": 9,
   "metadata": {
    "code_folding": []
   },
   "outputs": [],
   "source": [
    "# for tag in soup.find_all(re.compile(\"img\")):\n",
    "#     print(tag.name,tag.get('src'))"
   ]
  },
  {
   "cell_type": "code",
   "execution_count": null,
   "metadata": {},
   "outputs": [],
   "source": []
  }
 ],
 "metadata": {
  "kernelspec": {
   "display_name": "Python 3",
   "language": "python",
   "name": "python3"
  },
  "language_info": {
   "codemirror_mode": {
    "name": "ipython",
    "version": 3
   },
   "file_extension": ".py",
   "mimetype": "text/x-python",
   "name": "python",
   "nbconvert_exporter": "python",
   "pygments_lexer": "ipython3",
   "version": "3.6.7"
  },
  "toc": {
   "base_numbering": 1,
   "nav_menu": {},
   "number_sections": true,
   "sideBar": true,
   "skip_h1_title": false,
   "title_cell": "Table of Contents",
   "title_sidebar": "Contents",
   "toc_cell": false,
   "toc_position": {},
   "toc_section_display": true,
   "toc_window_display": false
  }
 },
 "nbformat": 4,
 "nbformat_minor": 2
}
